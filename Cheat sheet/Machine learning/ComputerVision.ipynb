{
 "cells": [
  {
   "cell_type": "markdown",
   "id": "78a02894",
   "metadata": {},
   "source": [
    "#### <span style = \"color:blue\"> Computer vision pipeline </span>\n",
    "1.Input data  \n",
    "2.Preprocessing  \n",
    "-> Reduce computation complexity  \n",
    "-> Data augmentation  \n",
    "3.Feature extraction: Find distinctive information about the image  \n",
    "4.ML model: Learn extracted features to predict output"
   ]
  },
  {
   "cell_type": "markdown",
   "id": "9e48d8ee",
   "metadata": {},
   "source": [
    "#### <span style = \"color:blue\"> Why multilayer perceptrons were introduced </span>\n",
    "A single perceptron can't solve nonlinear problem which is much more complex in real world.\n",
    "<img src = \"./img/multilayer_perceptrons.png\" width = \"250\" height = \"250\">"
   ]
  },
  {
   "cell_type": "markdown",
   "id": "02153d38",
   "metadata": {},
   "source": [
    "#### <span style = \"color:blue\"> Weight? </span>  \n",
    "Weight parameters reflect the usefulness (or importance) of these features on the output prediction."
   ]
  },
  {
   "cell_type": "markdown",
   "id": "33ab8ecf",
   "metadata": {},
   "source": [
    "#### <span style = \"color:blue\"> Hyperparameters for a neural network </span>\n",
    "1.Number of hidden layers\n",
    "- The more neurons a network have, the better the network will learn the training data. -> Cause overfitting\n",
    "2.Activation function\n",
    "- Purpose: to introduce nonlinearity into a network. To be specific, we can get nonlinear output from an activation function. No matter how many hidden layers are stacked, linear system can make only linear systems, not nonlinear systems.\n",
    "3.Error function\n",
    "- Measures how far the network’s prediction is from the true label\n",
    "- Regression problem: Mean square error / Classification problem: cross-entropy\n",
    "4.Optimizer\n",
    "- A function that implements a specific way to reach the objective of minimizing the cost function. About how much to change the weights.\n",
    "5.Batch size\n",
    "- ?\n",
    "6.Number of epochs\n",
    "- ?\n",
    "7.Learning rate\n",
    "- The size of each step the network takes when it descends the error mountain"
   ]
  },
  {
   "cell_type": "markdown",
   "id": "be5d74ce",
   "metadata": {},
   "source": [
    "#### <span style = \"color:blue\"> Forwardpropagation vs Backpropagation </span>\n",
    "- The forward pass calculates the output prediction (left). The backward pass passes the derivative of the error backward to update its weights (right)"
   ]
  },
  {
   "cell_type": "markdown",
   "id": "4aa60ccd",
   "metadata": {},
   "source": [
    "#### <span style = \"color:blue\"> Supervised vs Unsupervised vs Reinforcement Learning </span>\n",
    "<img src = \"./img/types_of_ML.png\" width = \"500\" height = \"500\">"
   ]
  },
  {
   "cell_type": "code",
   "execution_count": null,
   "id": "ff27e513",
   "metadata": {},
   "outputs": [],
   "source": []
  }
 ],
 "metadata": {
  "kernelspec": {
   "display_name": "Python 3 (ipykernel)",
   "language": "python",
   "name": "python3"
  },
  "language_info": {
   "codemirror_mode": {
    "name": "ipython",
    "version": 3
   },
   "file_extension": ".py",
   "mimetype": "text/x-python",
   "name": "python",
   "nbconvert_exporter": "python",
   "pygments_lexer": "ipython3",
   "version": "3.9.13"
  }
 },
 "nbformat": 4,
 "nbformat_minor": 5
}
