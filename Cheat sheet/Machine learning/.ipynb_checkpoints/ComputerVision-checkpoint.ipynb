{
 "cells": [
  {
   "cell_type": "markdown",
   "id": "78a02894",
   "metadata": {},
   "source": [
    "#### Computer vision pipeline\n",
    "1. Input data\n",
    "2. Preprocessing\n",
    "-> Reduce computation complexity\n",
    "-> Data augmentation\n",
    "3. Feature extraction: Find distinctive information about the image\n",
    "4. ML model: Learn extracted features to predict output"
   ]
  }
 ],
 "metadata": {
  "kernelspec": {
   "display_name": "Python 3 (ipykernel)",
   "language": "python",
   "name": "python3"
  },
  "language_info": {
   "codemirror_mode": {
    "name": "ipython",
    "version": 3
   },
   "file_extension": ".py",
   "mimetype": "text/x-python",
   "name": "python",
   "nbconvert_exporter": "python",
   "pygments_lexer": "ipython3",
   "version": "3.9.13"
  }
 },
 "nbformat": 4,
 "nbformat_minor": 5
}
