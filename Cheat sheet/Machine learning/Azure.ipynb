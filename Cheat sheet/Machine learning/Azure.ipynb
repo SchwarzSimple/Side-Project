{
 "cells": [
  {
   "cell_type": "markdown",
   "id": "6ab4c9b4",
   "metadata": {},
   "source": [
    "#### <span style = \"color:blue\"> End-to-end ML process </span>\n",
    "<img src = \"./img/ML_process.png\" width = \"500\" height = \"500\">"
   ]
  },
  {
   "cell_type": "code",
   "execution_count": null,
   "id": "fed732ae",
   "metadata": {},
   "outputs": [],
   "source": []
  }
 ],
 "metadata": {
  "kernelspec": {
   "display_name": "Python 3 (ipykernel)",
   "language": "python",
   "name": "python3"
  },
  "language_info": {
   "codemirror_mode": {
    "name": "ipython",
    "version": 3
   },
   "file_extension": ".py",
   "mimetype": "text/x-python",
   "name": "python",
   "nbconvert_exporter": "python",
   "pygments_lexer": "ipython3",
   "version": "3.9.13"
  }
 },
 "nbformat": 4,
 "nbformat_minor": 5
}
