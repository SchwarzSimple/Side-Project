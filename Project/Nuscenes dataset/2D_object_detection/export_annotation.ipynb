{
 "cells": [
  {
   "cell_type": "code",
   "execution_count": null,
   "id": "42e136f5",
   "metadata": {},
   "outputs": [],
   "source": [
    "from nuscenes.nuscenes import NuScenes\n",
    "nusc = NuScenes(version='v1.0-mini', dataroot='/home/hwc/data/sets/nuscenes', verbose=True)\n",
    "%run export_2D_bbox.ipynb"
   ]
  },
  {
   "cell_type": "code",
   "execution_count": null,
   "id": "31bf239c",
   "metadata": {},
   "outputs": [],
   "source": [
    "# All annotations convert\n",
    "for a in range(404):\n",
    "    no_anno = a\n",
    "    info_dict = {}\n",
    "    info_dict['bboxes'] = []\n",
    "    \n",
    "    rt_img = extract_bounding_box(no_anno,'CAM_FRONT')[6]\n",
    "    index_img = rt_img.find('/',46)\n",
    "    name_img = rt_img[index_img+1:]\n",
    "\n",
    "    for i in range(len(extract_bounding_box(no_anno,'CAM_FRONT')[0])):\n",
    "        bbox = {}\n",
    "        bbox[\"class\"] = extract_bounding_box(no_anno,'CAM_FRONT')[9][i]\n",
    "        bbox[\"xmin\"] = extract_bounding_box(no_anno,'CAM_FRONT')[0][i].astype(np.int64)\n",
    "        bbox[\"ymin\"] = extract_bounding_box(no_anno,'CAM_FRONT')[2][i].astype(np.int64)\n",
    "        bbox[\"xmax\"] = extract_bounding_box(no_anno,'CAM_FRONT')[1][i].astype(np.int64)\n",
    "        bbox[\"ymax\"] = extract_bounding_box(no_anno,'CAM_FRONT')[3][i].astype(np.int64)\n",
    "        info_dict['bboxes'].append(bbox)\n",
    "\n",
    "    info_dict['filename'] = name_img\n",
    "    info_dict['image_size'] = (1600, 900, 3) # width, height, channel\n",
    "    convert_to_yolov5(info_dict)"
   ]
  },
  {
   "cell_type": "code",
   "execution_count": null,
   "id": "71753cc0",
   "metadata": {},
   "outputs": [],
   "source": [
    "# Dataset split\n",
    "import splitfolders\n",
    "\n",
    "folder_in = '/home/hwc/Desktop/Jupyter/2D_object_detection/data/'\n",
    "folder_out = \"/home/hwc/Desktop/Jupyter/2D_object_detection/split_data/\"\n",
    "\n",
    "splitfolders.ratio(folder_in,folder_out, seed=1337, ratio=(.8, .1, .1), group_prefix=2)"
   ]
  }
 ],
 "metadata": {
  "kernelspec": {
   "display_name": "Python 3 (ipykernel)",
   "language": "python",
   "name": "python3"
  },
  "language_info": {
   "codemirror_mode": {
    "name": "ipython",
    "version": 3
   },
   "file_extension": ".py",
   "mimetype": "text/x-python",
   "name": "python",
   "nbconvert_exporter": "python",
   "pygments_lexer": "ipython3",
   "version": "3.10.9"
  }
 },
 "nbformat": 4,
 "nbformat_minor": 5
}
