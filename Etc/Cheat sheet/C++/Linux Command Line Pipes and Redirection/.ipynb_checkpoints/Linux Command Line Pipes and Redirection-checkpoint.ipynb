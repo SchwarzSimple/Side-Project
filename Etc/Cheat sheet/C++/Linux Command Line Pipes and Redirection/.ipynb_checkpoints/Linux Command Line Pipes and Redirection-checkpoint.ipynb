{
 "cells": [
  {
   "cell_type": "code",
   "execution_count": null,
   "id": "364ea3ad",
   "metadata": {},
   "outputs": [],
   "source": [
    "#!/usr/bin/env bash\n",
    "\n",
    "# default fds (file descriptors)\n",
    "0 stdin #input\n",
    "1 stdout #output\n",
    "2 stderr #output\n",
    "\n",
    "# run program1, stdout/stderr to terminal (default)\n",
    "program1\n",
    "\n",
    "# send stdout from program1 to stdin of program2 with anonymous pipe\n",
    "program1 | program2\n",
    "\n",
    "# run program1, stdout to out.log, stderr to terminal\n",
    "program1 1> out.log\n",
    "program1 > out.log\n",
    "\n",
    "# run program1, stdout/stderr to out.log, nothing to terminal\n",
    "program1 1> out.log 2> out.log\n",
    "program1 > out.log 2> out.log\n",
    "program1 > out.log 2>&1\n",
    "\n",
    "# run program1 with input.txt as input,\n",
    "# stdout/stderr to terminal\n",
    "program1 < input.txt\n",
    "cat input.txt | program1\n",
    "\n",
    "# run program1 with input.txt to stdin,\n",
    "# stdout to output.txt, stderr to terminal\n",
    "program1 < input.txt > output.txt\n",
    "cat input.txt | program1 > output.txt\n",
    "\n",
    "# send stdout from program1 to stdin of program2 with named pipe\n",
    "mkfifo mypipe\n",
    "program1 > mypipe\n",
    "program2 < mypipe\n",
    "\n",
    "# run program1, discard all output\n",
    "program1 > /dev/null 2>&1\n",
    "\n",
    "# run ./write, send fd4 to out.log (see write.c)\n",
    "./write 4> out.log"
   ]
  },
  {
   "cell_type": "markdown",
   "id": "b1e92ecf",
   "metadata": {},
   "source": [
    "source: https://www.youtube.com/watch?v=mV_8GbzwZMM"
   ]
  }
 ],
 "metadata": {
  "kernelspec": {
   "display_name": "Python 3 (ipykernel)",
   "language": "python",
   "name": "python3"
  },
  "language_info": {
   "codemirror_mode": {
    "name": "ipython",
    "version": 3
   },
   "file_extension": ".py",
   "mimetype": "text/x-python",
   "name": "python",
   "nbconvert_exporter": "python",
   "pygments_lexer": "ipython3",
   "version": "3.9.13"
  }
 },
 "nbformat": 4,
 "nbformat_minor": 5
}
