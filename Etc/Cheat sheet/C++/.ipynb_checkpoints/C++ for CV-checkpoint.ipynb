{
 "cells": [
  {
   "cell_type": "markdown",
   "id": "b769dff1",
   "metadata": {},
   "source": [
    "# Week 0\n",
    "- Standard input/output channels\n",
    "<img src = \"./img/channels.png\" width =\"300\" height = \"300\">\n",
    "- Redirection: https://froghome.tistory.com/5\n"
   ]
  },
  {
   "cell_type": "markdown",
   "id": "9f478330",
   "metadata": {},
   "source": [
    "# Week 1 (Build and Tools)\n",
    "## Compiler\n",
    "- A program is in charge of transforming your source code into binary code.\n",
    "- The easiest compile command: clang++ main.cpp\n",
    "- 4 distinct actions to build code: Pre-process, Compile, Assembly, and Link. == clang++ main.cpp\n",
    "<img src =\"./img/build_code.png\" width = \"300\" height = \"300\">\n",
    "- Pre-process: Pre-preparation / clang++ -E main.cpp > main.i\n",
    "- Compile: To take the output of the preprocessor and generate assembly languages (Intermdediate human readable language) / clang++ -S main.i\n",
    "- Assembly: To convert the assembly code into pure binary code or machine code (zeros and ones), which is called object code /clang++ -c main.s\n",
    "- Link: To merge all the object code from mutiple modules into a single one / clang++ main.o -o main\n",
    "\n",
    "## Libraries\n",
    "- Multiple object files that are logically connected.\n",
    "- Types of libraries: Static and Dynamic. Static: faster, take a lot of space, become part of the end binary, named: lib*.a / Dynamic: slower, can be copied, referenced by a program, named lib*.s\n",
    "- Function declaration and definition. Function declaration sets up an interface. Function definition holds the implementation of the function that can even be hidden from the user.\n",
    "- .hpp: header files to used when the prototypes are defined in the header itself. For example, Move all declarations to header files (*.hpp). Implementation goes to *.cpp or *.cc.\n",
    "\n",
    "## Build systems\n",
    "- Automate the build process of projects.\n",
    "- CMake: a build system generator / Make or Ninja: an actual build system.\n",
    "\n",
    "\n",
    "## Homework\n",
    "- .sh: A file with .sh extension is a scripting language commands file that contains computer program to be run by Unix shell. It can contain a series of commands that run sequentially to carry out operations such as files processing, execution of programs and other such tasks.\n",
    "- How to make .sh file: use a command \"nano filename.sh\"\n",
    "- How to run .sh: \"sh filename.sh\"\n",
    "- commnad \"wc\": to count lines, words, or so on.\n",
    "- command \"grep\": to find specfic words.\n",
    "- How to read a file with visual studio: code . \n",
    "- .a: A file with .a extension are static libraries. These Libraries contain functions that are linked to the calling code at compile time and become part of the application. It gathers and turn object files into ?.\n",
    "- command \"ar rcs\": ar -rcs is the most likely command you would use when using a Makefile to compile a library. r means that if the library already exists, replace the old files within the library with your new files. c means create the library if it did not exist. s can be seen to mean 'sort' (create a sorted index of) the library, so that it will be indexed and faster to access the functions in the library. Therefore, rcs can be seen to mean replace, create, sort. (more details: https://stackoverflow.com/questions/29714300/what-does-the-rcs-option-in-ar-do). ar command is used to create, modify and extract the files from the archives.\n",
    "- \n"
   ]
  },
  {
   "cell_type": "markdown",
   "id": "6ccfb660",
   "metadata": {},
   "source": [
    "# Week 2\n",
    "## C++, the legals\n",
    "- A C++ program is a sequence of text files(typically header and source files) that contain declarations. They undergo translation to become an executable program, which is executed when the C++ implementation calls its main function.\n",
    "- C++ keywords: Certain words in a C++ program have special meaning. For example, const, auto, friend, false, ...\n",
    "- C++ Entities: The entities of a C++ program are values, objects, references, functions, enumerators, types, class members, templates, template specializations, namespaces. Preprocessor macros are not C++ entities.\n",
    "- C++ Declarations: Declarations may introduce entities, associate them with names and define their properties.The declarations that define all properties required to use an entity are definitions.\n",
    "- C++ Definitions: Definitions of functions usually include sequences of statements, some of which include expressions, which specify the computations to be perfomed by the program. Every C++ statement ends with a semicolon \";\".\n",
    "- C++ Names: Names encountered in a program are associated with the declarations that introduced them. Each name is only valid within a part of the program called its scope.\n",
    "- C++ Types: Each object, reference, function, expression in C++ is associated with a type, which may be fundamental, compound, or user-defined, complete or incomplete, etc.\n",
    "- C++ Variables: Declared objects and declared references are variables, except for non-static data members.\n",
    "- C++ Identifiers: An identifier is an arbitrarily long sequence of digits, underscores, lowercase and uppercase Latin letters, and most Unicode characters. A valid identifier must begin with a non-digit. Identifiers are case-sensitive (distinguish capital letter or not).\n",
    "- C++ Expressions: An expression is a sequence of operators and their operands, that specifies a computation.\n",
    "\n",
    "## Control structures\n",
    "- If statement: used to conditionally execute code\n",
    "- Switch statement: used to condtionally execute code. break exits the switch block.\n",
    "- While loop: usually used when the exact number of iterations is unknown before-wise.\n",
    "- For loop: used when number of iterations is fixed and while otherwise.\n",
    "- Range for loop: Iterating over a standard containers like array or vector has simpler syntax.\n",
    "- Exit loops and iterations: Use brake to exit the loop. Use continue to skip to next iteration.\n",
    "\n",
    "## Built-in types\n",
    "- \"Out of the box\" types in C++\n",
    "- Operations on arithmetic types: All character, integer and flating point types are arthmetic. *Avoid == for floating point types.\n",
    "- Some additional operations: or: ||, and: &&, not: !.\n",
    "\n",
    "## Variables\n",
    "- Declaring variables: Variable declaration always follows pattern -> Have a look hidden comment <!-- <TYPE><NAME> [ = <VALUE>] ; -->\n",
    "- Naming variables: Start with a letter in all lowercase, uderscores separate words.\n",
    "- Variables live in scopes: Local scopes start with { and ends with }.\n",
    "- Any variable can be const: Use const to declare a constant. Google-style -> starting with a small letter k. *Declare everything const unless it must be changed.\n",
    "- References to variables: Use & to state that a variable is a reference.\n",
    "\n",
    "## Streams\n",
    "- I/O streams: Handle stdin, stdout and stderr.\n",
    "\n"
   ]
  },
  {
   "cell_type": "markdown",
   "id": "eb241426",
   "metadata": {},
   "source": [
    "# Week 3: C++ Functions\n",
    "## C++ strings\n",
    "- Strings: #include <string> to use std::string. Concatenate strings with +.\n",
    "    \n",
    "## C++ Functions\n",
    "- Function definition: In programming, a named section of a program that performs a specific task. In this sense, a function is a type of procedure or routine. Some programming languages make a distinction between a function, which returns a value, and a procedure, which performs some operation but does not return a value.\n",
    "- Functions create a scope {}.\n",
    "- Single return value from a function.\n",
    "- Should do only one thing and do it right.  \n",
    "<br><br>\n",
    "    \n",
    "## Anatomy of C++ functions\n",
    "- Body, Optional attributes, Return Type, Name, Argument List.\n",
    "- Function body: where the computation happens. Defines a new scope, the score of the function. \n",
    "- Return Type: Could be any of 1. An unique type (int, std::string, ...) 2. void. If it has a return type, must return a value. If returns void, must not return any value. \n",
    "\n",
    "## Mordern C++ to the rescue\n",
    "- Introduce how to return two return using C++17 with a example (search: introduction of structred binding)\n",
    "- Never return reference to locally variables.\n",
    "- Return value optimization.\n",
    "- Local variables: A local variable is initailized when the execution reaches its definition. Unless declared static, each invocation has its own copy.\n",
    "- Argument List: How the function interact with external world.\n",
    "- Pass by reference vs pass by value\n",
    "- inline: it is a hint to the compiler.\n",
    "- C-style overloading\n"
   ]
  },
  {
   "cell_type": "markdown",
   "id": "a1388c8e",
   "metadata": {},
   "source": [
    "## Good C++ practices\n",
    "- Break up complicated computations into meaningful chunks and name them.\n",
    "- Keep the length of functions small enough.\n",
    "- Avoid unecessary comments.\n",
    "- One function should achieve one task.\n",
    "- If you can't pcik a short name, then split functionality.\n",
    "- Avoid macros.\n",
    "\n",
    "## C++ Namespaces\n",
    "- "
   ]
  },
  {
   "cell_type": "markdown",
   "id": "f3c86b54",
   "metadata": {},
   "source": [
    "# Progress\n",
    "- Homework 1 .B: Task 2 link\n",
    "- Week3 lecture: 52:11\n",
    "\n",
    "# Questions\n",
    "- Why do we sepreate files into .hpp and .cpp?\n",
    "- [Homework 1/Task2] Command c++ vs clang++ ? / clang++ options -> -c, -I, ...? \n"
   ]
  }
 ],
 "metadata": {
  "kernelspec": {
   "display_name": "Python 3 (ipykernel)",
   "language": "python",
   "name": "python3"
  },
  "language_info": {
   "codemirror_mode": {
    "name": "ipython",
    "version": 3
   },
   "file_extension": ".py",
   "mimetype": "text/x-python",
   "name": "python",
   "nbconvert_exporter": "python",
   "pygments_lexer": "ipython3",
   "version": "3.9.13"
  }
 },
 "nbformat": 4,
 "nbformat_minor": 5
}
